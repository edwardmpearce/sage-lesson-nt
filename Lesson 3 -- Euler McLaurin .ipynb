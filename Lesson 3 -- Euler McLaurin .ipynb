{
 "cells": [
  {
   "cell_type": "markdown",
   "metadata": {},
   "source": [
    "# Lesson 3 - Euler McLaurin and Bernoulli numbers\n",
    "\n",
    "## Learning Outcomes:\n",
    "\n",
    "The student will learn to manipulate symbolic expressions: \n",
    "    - differentiate\n",
    "    - simplify\n",
    "    - substitute (evaluate)\n",
    "They will also learn following concepts from SageMath:\n",
    "- the `_` variable\n",
    "- taylor expansions\n",
    "- coefficients\n",
    "\n",
    "\n",
    "## Mathematical problem:\n",
    "\n",
    "One of the methods available for computing the Riemann zeta function is the Euler - McLaurin summation formula, which in general says that if $f(x)$ is infinitely differentiable on $\\mathbb{R}$, $a \\le b$ are integers and $k>0$ then:\n",
    "$$\n",
    "\\sum_{n=a}^{b} f(n) = \\int_{a}^{b} f(x) dx  + \\frac{f(a)+f(b)}{2} + \n",
    "\\sum_{j=1}^{k}\\frac{B_{j}}{(j)!} \\left( f^{(j-1)}(b) - f^{(j-1)}(a)\\right)\n",
    "+ \\frac{(-1)^{k-1}}{(k)!} \\int_{a}^{b} B_{k}(x-[x])f^{(k)}(x) dx.\n",
    "$$\n",
    "Here the constants $B_{k}$ are Bernoulli numbers, $B_j(x)$ Bernoulli plynomials and $[x]$ is the integer part of $x$.\n",
    "\n",
    "### Bernoulli numbers\n",
    "The Bernoulli numbers are a sequence of rational numbers that appear in many parts of number theory and are in particular closely related to the Riemann zeta function \n",
    "$$\\zeta(s)= \\sum_{n=1}^{\\infty} n^{-s}$$\n",
    "For instance \n",
    "$$\n",
    "\\zeta(2)=\\frac{\\pi^2}{6}, \\quad \\zeta(4)=\\frac{\\pi^4}{90}\\ldots\n",
    "$$\n",
    "and in general \n",
    "$$\n",
    "\\zeta(2k)=(-1)^{k-1}\\frac{(2\\pi)^{2k}}{2(2k)!}B_{2k}\n",
    "$$\n",
    "The Bernoulli numbers $B_k$ can be defined in terms of a generating series:\n",
    "$$\n",
    "F(x) = \\frac{x}{e^x-1} = \\sum_{k=0}^{\\infty} B_k \\frac{1}{k!}x^k\n",
    "$$\n",
    "and we will see how we can use symbolic expressions in SageMath to find their values (this is by far not the most efficient way...)"
   ]
  },
  {
   "cell_type": "markdown",
   "metadata": {},
   "source": [
    "## Symbolic expressions in SageMath\n",
    "When starting Sage the name 'x' is defined as a symbolic variable and other variables have to be declared using\n",
    "the `var(x,y,z,...)` command.\n",
    "Symbolic expressions can treated in various ways:\n",
    "- differentiation\n",
    "- simplifications\n"
   ]
  },
  {
   "cell_type": "code",
   "execution_count": 2,
   "metadata": {},
   "outputs": [
    {
     "data": {
      "text/plain": [
       "x"
      ]
     },
     "execution_count": 2,
     "metadata": {},
     "output_type": "execute_result"
    }
   ],
   "source": [
    "x"
   ]
  },
  {
   "cell_type": "code",
   "execution_count": 4,
   "metadata": {
    "scrolled": true
   },
   "outputs": [
    {
     "ename": "NameError",
     "evalue": "name 'y' is not defined",
     "output_type": "error",
     "traceback": [
      "\u001b[0;31m---------------------------------------------------------------------------\u001b[0m",
      "\u001b[0;31mNameError\u001b[0m                                 Traceback (most recent call last)",
      "\u001b[0;32m<ipython-input-4-9063a9f0e032>\u001b[0m in \u001b[0;36m<module>\u001b[0;34m()\u001b[0m\n\u001b[0;32m----> 1\u001b[0;31m \u001b[0my\u001b[0m\u001b[0;34m\u001b[0m\u001b[0;34m\u001b[0m\u001b[0m\n\u001b[0m",
      "\u001b[0;31mNameError\u001b[0m: name 'y' is not defined"
     ]
    }
   ],
   "source": [
    "y"
   ]
  },
  {
   "cell_type": "code",
   "execution_count": 5,
   "metadata": {},
   "outputs": [
    {
     "data": {
      "text/plain": [
       "(x, y, z)"
      ]
     },
     "execution_count": 5,
     "metadata": {},
     "output_type": "execute_result"
    }
   ],
   "source": [
    "var('x','y','z')"
   ]
  },
  {
   "cell_type": "code",
   "execution_count": 6,
   "metadata": {},
   "outputs": [
    {
     "data": {
      "text/plain": [
       "y*z"
      ]
     },
     "execution_count": 6,
     "metadata": {},
     "output_type": "execute_result"
    }
   ],
   "source": [
    "y*z"
   ]
  },
  {
   "cell_type": "markdown",
   "metadata": {},
   "source": [
    "### Differentiation"
   ]
  },
  {
   "cell_type": "code",
   "execution_count": 8,
   "metadata": {},
   "outputs": [
    {
     "name": "stdout",
     "output_type": "stream",
     "text": [
      "g\t= 1/(x^2 + y^2)\n",
      "dg/dx\t= -2*x/(x^2 + y^2)^2\n",
      "d^2g/dxdy\t= 8*x*y/(x^2 + y^2)^3\n"
     ]
    }
   ],
   "source": [
    "g = 1/(x**2+y**2)\n",
    "print(f\"g\\t= {g}\")\n",
    "print(f\"dg/dx\\t= {diff(g,x)}\")\n",
    "print(f\"d^2g/dxdy\\t= {diff(g,x,y)}\")"
   ]
  },
  {
   "cell_type": "markdown",
   "metadata": {},
   "source": [
    "### Simplification"
   ]
  },
  {
   "cell_type": "code",
   "execution_count": 11,
   "metadata": {},
   "outputs": [
    {
     "data": {
      "text/plain": [
       "8*x^2*y^2/(x^2 + y^2)^3 - 2*x^2/(x^2 + y^2)^2 - 2*y^2/(x^2 + y^2)^2 + 1/(x^2 + y^2)"
      ]
     },
     "execution_count": 11,
     "metadata": {},
     "output_type": "execute_result"
    }
   ],
   "source": [
    "f = x*y/(x**2 + y**2 ); f\n",
    "z=diff(f,x,y);z"
   ]
  },
  {
   "cell_type": "code",
   "execution_count": 12,
   "metadata": {
    "scrolled": true
   },
   "outputs": [
    {
     "data": {
      "text/plain": [
       "-(x^4 - 6*x^2*y^2 + y^4)/(x^6 + 3*x^4*y^2 + 3*x^2*y^4 + y^6)"
      ]
     },
     "execution_count": 12,
     "metadata": {},
     "output_type": "execute_result"
    }
   ],
   "source": [
    "z.simplify_full()\n"
   ]
  },
  {
   "cell_type": "markdown",
   "metadata": {},
   "source": [
    "We can now try to find the Bernoulli numbers:"
   ]
  },
  {
   "cell_type": "code",
   "execution_count": 58,
   "metadata": {},
   "outputs": [
    {
     "data": {
      "text/plain": [
       "x/(e^x - 1)"
      ]
     },
     "execution_count": 58,
     "metadata": {},
     "output_type": "execute_result"
    }
   ],
   "source": [
    "F = x/(e**x -1); F # The generating function"
   ]
  },
  {
   "cell_type": "markdown",
   "metadata": {},
   "source": [
    "Try to find the first Taylor coefficient:"
   ]
  },
  {
   "cell_type": "code",
   "execution_count": 23,
   "metadata": {},
   "outputs": [
    {
     "data": {
      "text/plain": [
       "-x*e^x/(e^x - 1)^2 + 1/(e^x - 1)"
      ]
     },
     "execution_count": 23,
     "metadata": {},
     "output_type": "execute_result"
    }
   ],
   "source": [
    "g=derivative(F,x,1); g # another name for .diff()"
   ]
  },
  {
   "cell_type": "code",
   "execution_count": 24,
   "metadata": {},
   "outputs": [
    {
     "ename": "ValueError",
     "evalue": "power::eval(): division by zero",
     "output_type": "error",
     "traceback": [
      "\u001b[0;31m---------------------------------------------------------------------------\u001b[0m",
      "\u001b[0;31mValueError\u001b[0m                                Traceback (most recent call last)",
      "\u001b[0;32m<ipython-input-24-21644c5c32ff>\u001b[0m in \u001b[0;36m<module>\u001b[0;34m()\u001b[0m\n\u001b[1;32m      1\u001b[0m \u001b[0mg\u001b[0m\u001b[0;34m.\u001b[0m\u001b[0msimplify_full\u001b[0m\u001b[0;34m(\u001b[0m\u001b[0;34m)\u001b[0m\u001b[0;34m\u001b[0m\u001b[0;34m\u001b[0m\u001b[0m\n\u001b[0;32m----> 2\u001b[0;31m \u001b[0mg\u001b[0m\u001b[0;34m.\u001b[0m\u001b[0msubstitute\u001b[0m\u001b[0;34m(\u001b[0m\u001b[0mx\u001b[0m\u001b[0;34m=\u001b[0m\u001b[0mInteger\u001b[0m\u001b[0;34m(\u001b[0m\u001b[0;36m0\u001b[0m\u001b[0;34m)\u001b[0m\u001b[0;34m)\u001b[0m\u001b[0;34m\u001b[0m\u001b[0;34m\u001b[0m\u001b[0m\n\u001b[0m",
      "\u001b[0;32m/disk2/pmzfs/sage-git/sage9/local/lib/python3.7/site-packages/sage/symbolic/expression.pyx\u001b[0m in \u001b[0;36msage.symbolic.expression.Expression.substitute (build/cythonized/sage/symbolic/expression.cpp:30736)\u001b[0;34m()\u001b[0m\n\u001b[1;32m   5333\u001b[0m             smap.insert(make_pair((<Expression>self.coerce_in(k))._gobj,\n\u001b[1;32m   5334\u001b[0m                                   (<Expression>self.coerce_in(v))._gobj))\n\u001b[0;32m-> 5335\u001b[0;31m         \u001b[0mres\u001b[0m \u001b[0;34m=\u001b[0m \u001b[0mself\u001b[0m\u001b[0;34m.\u001b[0m\u001b[0m_gobj\u001b[0m\u001b[0;34m.\u001b[0m\u001b[0msubs_map\u001b[0m\u001b[0;34m(\u001b[0m\u001b[0msmap\u001b[0m\u001b[0;34m,\u001b[0m \u001b[0;36m0\u001b[0m\u001b[0;34m)\u001b[0m\u001b[0;34m\u001b[0m\u001b[0;34m\u001b[0m\u001b[0m\n\u001b[0m\u001b[1;32m   5336\u001b[0m         \u001b[0;32mreturn\u001b[0m \u001b[0mnew_Expression_from_GEx\u001b[0m\u001b[0;34m(\u001b[0m\u001b[0mself\u001b[0m\u001b[0;34m.\u001b[0m\u001b[0m_parent\u001b[0m\u001b[0;34m,\u001b[0m \u001b[0mres\u001b[0m\u001b[0;34m)\u001b[0m\u001b[0;34m\u001b[0m\u001b[0;34m\u001b[0m\u001b[0m\n\u001b[1;32m   5337\u001b[0m \u001b[0;34m\u001b[0m\u001b[0m\n",
      "\u001b[0;31mValueError\u001b[0m: power::eval(): division by zero"
     ]
    }
   ],
   "source": [
    "g.simplify_full() # yes - there are other types of simplifications.\n",
    "g.substitute(x=0)"
   ]
  },
  {
   "cell_type": "markdown",
   "metadata": {},
   "source": [
    "We cant' just divide by 0 / 0. We need L'hopitals rule!"
   ]
  },
  {
   "cell_type": "code",
   "execution_count": 25,
   "metadata": {},
   "outputs": [
    {
     "data": {
      "text/plain": [
       "-1/2*x/(e^x - 1)"
      ]
     },
     "execution_count": 25,
     "metadata": {},
     "output_type": "execute_result"
    }
   ],
   "source": [
    "g.numerator().diff(x) / g.denominator().diff(x)"
   ]
  },
  {
   "cell_type": "markdown",
   "metadata": {},
   "source": [
    "Still of the form 0 /0. Need one more derivative!"
   ]
  },
  {
   "cell_type": "code",
   "execution_count": 30,
   "metadata": {},
   "outputs": [
    {
     "data": {
      "text/plain": [
       "-1/2"
      ]
     },
     "execution_count": 30,
     "metadata": {},
     "output_type": "execute_result"
    }
   ],
   "source": [
    "# Note that the second parameter gives the number of times we differentiate\n",
    "g.numerator().diff(x,2) / g.denominator().diff(x,2)  \n",
    "\n",
    "_.simplify_full().substitute(x=0)  # _ is the last evaluated expression"
   ]
  },
  {
   "cell_type": "markdown",
   "metadata": {},
   "source": [
    "So the first Bernoulli number $B_1=-\\frac{1}{2}$.\n",
    "This method is a bit cumbersome but fortunately there is a builtin command in Sage for Taylor expansions "
   ]
  },
  {
   "cell_type": "code",
   "execution_count": 34,
   "metadata": {},
   "outputs": [
    {
     "data": {
      "text/plain": [
       "1/47900160*x^10 - 1/1209600*x^8 + 1/30240*x^6 - 1/720*x^4 + 1/12*x^2 - 1/2*x + 1"
      ]
     },
     "execution_count": 34,
     "metadata": {},
     "output_type": "execute_result"
    }
   ],
   "source": [
    "F.taylor(x,0,10)"
   ]
  },
  {
   "cell_type": "code",
   "execution_count": 56,
   "metadata": {},
   "outputs": [
    {
     "data": {
      "text/plain": [
       "<class 'sage.symbolic.expression.Expression'>"
      ]
     },
     "execution_count": 56,
     "metadata": {},
     "output_type": "execute_result"
    }
   ],
   "source": [
    "type(F.taylor(x,0,10))"
   ]
  },
  {
   "cell_type": "markdown",
   "metadata": {},
   "source": [
    "We can convert this to a polynomial over QQ:\n",
    "    "
   ]
  },
  {
   "cell_type": "code",
   "execution_count": 61,
   "metadata": {
    "scrolled": true
   },
   "outputs": [
    {
     "data": {
      "text/plain": [
       "<class 'sage.rings.polynomial.polynomial_rational_flint.Polynomial_rational_flint'>"
      ]
     },
     "execution_count": 61,
     "metadata": {},
     "output_type": "execute_result"
    }
   ],
   "source": [
    "p = F.taylor(x,0,10).polynomial(QQ)\n",
    "type(p)"
   ]
  },
  {
   "cell_type": "markdown",
   "metadata": {},
   "source": [
    "For a polynomial we cna add a big-Oh"
   ]
  },
  {
   "cell_type": "code",
   "execution_count": 62,
   "metadata": {},
   "outputs": [
    {
     "data": {
      "text/plain": [
       "1 - 1/2*x + 1/12*x^2 - 1/720*x^4 + 1/30240*x^6 - 1/1209600*x^8 + 1/47900160*x^10 + O(x^12)"
      ]
     },
     "execution_count": 62,
     "metadata": {},
     "output_type": "execute_result"
    }
   ],
   "source": [
    "p.add_bigoh(12)"
   ]
  },
  {
   "cell_type": "markdown",
   "metadata": {},
   "source": [
    "We can get coefficients of certain terms in Taylor expansions"
   ]
  },
  {
   "cell_type": "code",
   "execution_count": 35,
   "metadata": {},
   "outputs": [
    {
     "data": {
      "text/plain": [
       "-1/720"
      ]
     },
     "execution_count": 35,
     "metadata": {},
     "output_type": "execute_result"
    }
   ],
   "source": [
    "F.taylor(x,0,10).coefficient(x^4)"
   ]
  },
  {
   "cell_type": "code",
   "execution_count": null,
   "metadata": {},
   "outputs": [],
   "source": [
    "# We can now write a function that returns the j-th Bernoulli number"
   ]
  },
  {
   "cell_type": "code",
   "execution_count": 38,
   "metadata": {},
   "outputs": [
    {
     "data": {
      "text/plain": [
       "[-1/2, 1/6, 0, -1/30, 0, 1/42, 0, -1/30, 0]"
      ]
     },
     "execution_count": 38,
     "metadata": {},
     "output_type": "execute_result"
    }
   ],
   "source": [
    "def B(j):\n",
    "    F = x / (e^x -1)\n",
    "    return F.taylor(x,0,j).coefficient(x^j)*factorial(j)\n",
    "    \n",
    "\n",
    "[B(j) for  j in range(1,10)]\n"
   ]
  },
  {
   "cell_type": "markdown",
   "metadata": {},
   "source": [
    "## Variable scopes:\n",
    "In general variables inside functions are **local** so they don't affect other variables \"outside\":"
   ]
  },
  {
   "cell_type": "code",
   "execution_count": 52,
   "metadata": {},
   "outputs": [
    {
     "name": "stdout",
     "output_type": "stream",
     "text": [
      "x inside function is 2\n",
      "x inside function is 3\n",
      "1\n"
     ]
    }
   ],
   "source": [
    "x=1\n",
    "def my_function(x):\n",
    "    print(f\"x inside function is {x}\")\n",
    "    x = 3\n",
    "    print(f\"x inside function is {x}\")\n",
    "    \n",
    "my_function(2)\n",
    "print(x)"
   ]
  },
  {
   "cell_type": "markdown",
   "metadata": {},
   "source": [
    "However, the symbolic variable `x` is special and it gets it's scope from the outside. "
   ]
  },
  {
   "cell_type": "code",
   "execution_count": 54,
   "metadata": {},
   "outputs": [
    {
     "data": {
      "text/plain": [
       "[0, 0, 0, 0, 0, 0, 0, 0, 0]"
      ]
     },
     "execution_count": 54,
     "metadata": {},
     "output_type": "execute_result"
    }
   ],
   "source": [
    "def B(j):\n",
    "    F = x / (e^x -1)  # x = 1 so F is a constant\n",
    "    return F.taylor(x,0,j).coefficient(x^j)*factorial(j)\n",
    "[B(j) for  j in range(1,10)]"
   ]
  },
  {
   "cell_type": "code",
   "execution_count": null,
   "metadata": {},
   "outputs": [],
   "source": []
  },
  {
   "cell_type": "code",
   "execution_count": 55,
   "metadata": {},
   "outputs": [
    {
     "data": {
      "text/plain": [
       "[-1/2, 1/6, 0, -1/30, 0, 1/42, 0, -1/30, 0]"
      ]
     },
     "execution_count": 55,
     "metadata": {},
     "output_type": "execute_result"
    }
   ],
   "source": [
    "def B(j):\n",
    "    var('x')\n",
    "    F = x / (e^x -1)\n",
    "    y=2\n",
    "    return F.taylor(x,0,j).coefficient(x^j)*factorial(j)\n",
    "    \n",
    "\n",
    "[B(j) for  j in range(1,10)]\n"
   ]
  },
  {
   "cell_type": "markdown",
   "metadata": {},
   "source": [
    "## Bernoulli polynomials\n",
    "The Bernoulli polynomials can also be given by a generating series\n",
    "$$\n",
    " F(x,t) = \\frac{te^{xt}}{e^{t}-1} = \\sum_{n=0}^{\\infty} B_n(x)\\frac{t^n}{n!}\n",
    "$$"
   ]
  },
  {
   "cell_type": "markdown",
   "metadata": {},
   "source": [
    "**Exercise**: Write a function that computes the $n$-th Bernoulli polynomial, $B_n(t)$ using the generating function. "
   ]
  },
  {
   "cell_type": "code",
   "execution_count": null,
   "metadata": {},
   "outputs": [],
   "source": []
  }
 ],
 "metadata": {
  "kernelspec": {
   "display_name": "SageMath 9.0",
   "language": "sage",
   "name": "sagemath"
  },
  "language_info": {
   "codemirror_mode": {
    "name": "ipython",
    "version": 3
   },
   "file_extension": ".py",
   "mimetype": "text/x-python",
   "name": "python",
   "nbconvert_exporter": "python",
   "pygments_lexer": "ipython3",
   "version": "3.7.3"
  }
 },
 "nbformat": 4,
 "nbformat_minor": 2
}
