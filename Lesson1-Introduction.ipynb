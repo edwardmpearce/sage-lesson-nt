{
 "cells": [
  {
   "cell_type": "markdown",
   "metadata": {},
   "source": [
    "# Lesson 1 - Introduction to Python and SageMath\n",
    "time: 30 - 45 minutes\n",
    "\n",
    "In this lesson we will introduce some of the fundamental concepts in Python and SageMath. \n",
    "This will then be used in subsequent lessons. \n",
    "\n",
    "## Learning outcomes: \n",
    "1. Know what SageMath is and how to start i\n",
    "1. Learn how to run Sage\n",
    "2. Start a notebook\n",
    "3. Basic expressions and variables \n",
    "- variable types, dicts, lists \n",
    "- functions, passing arguments by value or reference \n",
    "- loops v/s list comprehensions\n",
    "- exceptions\n",
    "- docstrings\n",
    "\n",
    "## What is SageMath\n",
    "\n",
    "SageMath (formerly known as just SAGE (System for Algebra and Geometry Experimentation), but renamed to avoid confusion with another well-known software...) was originally developed by William Stein and first released in 2005. \n",
    "The intention behind SageMath was/is to provide a free, open source, alternative to Magma, Maple, Mathematica, MATLAB etc. with an easy to use interface (both to use and to develop in) built on Python (Cython) and which can integrate with other free or commercial packages (which then needs to be installed separately).\n",
    "- Default installation contains many (at least 84) different free packages, including e.g.:\n",
    "  - Pari/GP\n",
    "  - GAP\n",
    "  - singular\n",
    "  - R\n",
    "  - numpy\n",
    "  - matplotlib\n",
    "  - ...\n",
    "  For full list see: https://www.sagemath.org/links-components.html\n",
    "- it can be integrated with existing commercial packages like\n",
    "  - Magma\n",
    "  - Mathematica\n",
    "  - Maple\n",
    "\n",
    "Full documentation is included in the source of SageMath and is available online, together with a multitude of tutorials etc. See for instance https://www.sagemath.org/tour.html\n",
    "\n",
    "## Optional packages\n",
    "There are some packages that are not shipped with SageMath but are available to install \n",
    "\n",
    "` sage -i <package_name>`  - optional sage packages\n",
    "\n",
    "` sage -pip install <py_package_name>` - optional python packages\n",
    "\n",
    "or in the sage shell:\n",
    "\n",
    "`sage: installed_packages()` - gives a list of all installed packages\n",
    "\n",
    "`sage: optional_packages()` gives a list of instaled and available optional packages\n",
    "\n",
    "For example. To install additional GAP packages: \n",
    "\n",
    "`sage -i gap_packages`\n",
    "\n",
    "\n",
    "## How to start SageMath\n",
    "\n",
    "- Command line (interactive)\n",
    "\n",
    "    `$ sage `\n",
    "    Do `sage --help` to see all options, e.g. `--python`, `--pip`, etc.\n",
    "\n",
    "- Notebook (jupyter) interface:\n",
    "    \n",
    "    `$sage --notebook=jupyter --notebook-dir=<dir>`\n",
    "- Cocalc: https://cocalc.com\n",
    "- Sage Cell: https://sagecell.sagemath.org/\n",
    "    \n",
    "    \n",
    "## Useful to know when using SageMath:\n",
    "- `<function_name>?` to read documentation (docstring)\n",
    "- `<function_name>??` to read the source (if available)\n",
    "- `<object_name>.<tab>` - use tab completion to see available properties."
   ]
  },
  {
   "cell_type": "code",
   "execution_count": null,
   "metadata": {},
   "outputs": [],
   "source": [
    "gcd?"
   ]
  },
  {
   "cell_type": "code",
   "execution_count": null,
   "metadata": {},
   "outputs": [],
   "source": [
    "x=1\n",
    "x."
   ]
  },
  {
   "cell_type": "markdown",
   "metadata": {},
   "source": [
    "## Programming in SageMath\n",
    "Since the main functionality of SageMath is written in Python it means that most of the programming can be done using Python. There are however some subtle differences.\n",
    "\n",
    "### Variable types in Python\n",
    "- Numerical types: `int`, `float`, `complex`\n",
    "- Strings: `str` \n",
    "- Lists: `list`\n",
    "- Tuple: `tuple`\n",
    "- Dictionary: `dict`\n",
    "- Set: `set`\n",
    "\n"
   ]
  },
  {
   "cell_type": "code",
   "execution_count": null,
   "metadata": {},
   "outputs": [],
   "source": [
    "# We run Jupyter cells in SageMath mode by default but can run individual cells in Python2 or 3 \n",
    "# (unfortunately Python2 is still the default so better be explicit). \n",
    "%%python3\n",
    "x=2\n",
    "print(x,type(x))\n",
    "y=2.0; print(y,type(y))  #Combine multiple statements with ';' -- avoid this in practice since it reduces readability \n",
    "r = 3/4; print(r,type(r))\n",
    "z= 1+1j; print(z,type(z))\n",
    "s=\"hello\"; print(s,type(s))\n",
    "l = [1,2,3]; print(l,type(l))\n",
    "t = (1,2,3); print(t,type(t))\n",
    "d = {1:'a','b':2}; print(d,type(d))\n",
    "A = set([1,2,3,4]); print(A,type(A))"
   ]
  },
  {
   "cell_type": "code",
   "execution_count": null,
   "metadata": {},
   "outputs": [],
   "source": [
    "%%python2\n",
    "# Note in Python2 integer division is uses \"integer division\" (w/ floor)\n",
    "r = 3/4; print(r,type(r))\n",
    "r =-3/4; print(r,type(r))"
   ]
  },
  {
   "cell_type": "code",
   "execution_count": null,
   "metadata": {
    "scrolled": true
   },
   "outputs": [],
   "source": [
    "# In Sage the default is to use Sage Integers and Real numbers (other types are the same)\n",
    "x=2\n",
    "print(x,type(x)); \n",
    "y=2.0; print(y,type(y))  #Combine multiple statements with ';' -- avoid this in practice since it reduces readability \n",
    "r = 3 / 4; print(r,type(r))\n",
    "z= 1+1j; print(z,type(z)) # Numerical complex numbers \n",
    "z= 1+1*I; print(z,type(z)) # Symbolic complex numbers\n"
   ]
  },
  {
   "cell_type": "markdown",
   "metadata": {},
   "source": [
    "# Sets\n",
    "Sets are useful to make lists with unique elements:"
   ]
  },
  {
   "cell_type": "code",
   "execution_count": null,
   "metadata": {},
   "outputs": [],
   "source": [
    "list(set([1,2,3,4,4,4,5]))"
   ]
  },
  {
   "cell_type": "code",
   "execution_count": null,
   "metadata": {},
   "outputs": [],
   "source": [
    "there are also intersections etc."
   ]
  },
  {
   "cell_type": "code",
   "execution_count": null,
   "metadata": {},
   "outputs": [],
   "source": [
    "set([1,2,3,4]).intersection(['a','b','c',1,2,8])"
   ]
  },
  {
   "cell_type": "markdown",
   "metadata": {},
   "source": [
    "### Different precision variables in Sage"
   ]
  },
  {
   "cell_type": "code",
   "execution_count": null,
   "metadata": {
    "scrolled": true
   },
   "outputs": [],
   "source": [
    "# Real numbers (53 bits - double precision):\n",
    "RR"
   ]
  },
  {
   "cell_type": "code",
   "execution_count": null,
   "metadata": {},
   "outputs": [],
   "source": [
    "# Higher precision\n",
    "RealField(106)"
   ]
  },
  {
   "cell_type": "code",
   "execution_count": null,
   "metadata": {},
   "outputs": [],
   "source": [
    "CC"
   ]
  },
  {
   "cell_type": "code",
   "execution_count": null,
   "metadata": {},
   "outputs": [],
   "source": [
    "ComplexField(106)"
   ]
  },
  {
   "cell_type": "code",
   "execution_count": null,
   "metadata": {},
   "outputs": [],
   "source": [
    "z=ComplexField(106)(1,10); z"
   ]
  },
  {
   "cell_type": "code",
   "execution_count": null,
   "metadata": {},
   "outputs": [],
   "source": [
    "# There are also builtin constants that can be given to arbitrary precision\n",
    "RR.pi()"
   ]
  },
  {
   "cell_type": "code",
   "execution_count": null,
   "metadata": {},
   "outputs": [],
   "source": [
    "RealField(106).pi()"
   ]
  },
  {
   "cell_type": "code",
   "execution_count": null,
   "metadata": {},
   "outputs": [],
   "source": [
    "# And functions\n",
    "exp(RealField(1000)(1))  # e^1"
   ]
  },
  {
   "cell_type": "code",
   "execution_count": null,
   "metadata": {},
   "outputs": [],
   "source": [
    "# Alternatively as a method:\n",
    "RealField(1000)(1)).exp()"
   ]
  },
  {
   "cell_type": "markdown",
   "metadata": {},
   "source": [
    "# Objects, Parents, Elements and categories"
   ]
  },
  {
   "cell_type": "code",
   "execution_count": null,
   "metadata": {},
   "outputs": [],
   "source": [
    "In Python and even more so in SageMath everything is an object and has properties and methods. \n",
    "In SageMath most (every?) object is either an Element or a Parent"
   ]
  },
  {
   "cell_type": "code",
   "execution_count": null,
   "metadata": {},
   "outputs": [],
   "source": [
    "F = RealField(53) # parent\n",
    "x = F(2) # element"
   ]
  },
  {
   "cell_type": "code",
   "execution_count": null,
   "metadata": {},
   "outputs": [],
   "source": [
    "F.is_parent_of(x)"
   ]
  },
  {
   "cell_type": "code",
   "execution_count": null,
   "metadata": {},
   "outputs": [],
   "source": [
    "x.parent()"
   ]
  },
  {
   "cell_type": "code",
   "execution_count": null,
   "metadata": {},
   "outputs": [],
   "source": [
    "x in F"
   ]
  },
  {
   "cell_type": "code",
   "execution_count": null,
   "metadata": {},
   "outputs": [],
   "source": [
    "x.category()"
   ]
  },
  {
   "cell_type": "code",
   "execution_count": null,
   "metadata": {},
   "outputs": [],
   "source": [
    "F.category()"
   ]
  },
  {
   "cell_type": "code",
   "execution_count": null,
   "metadata": {},
   "outputs": [],
   "source": []
  },
  {
   "cell_type": "markdown",
   "metadata": {},
   "source": [
    "### String formatting\n",
    "In previous versions of Python there were more types of strings but in current Python there are basically onloy strings `str` and bytestrings `bytes` (which we forget about here)\n",
    "\n",
    "For printing string it is also useful to learn about formatted strings:"
   ]
  },
  {
   "cell_type": "code",
   "execution_count": null,
   "metadata": {},
   "outputs": [],
   "source": [
    "print(\"x={0}\".format(x))   # Python 2 formatting \n",
    "print(f\"x={x}\")            # f-strings in Python 3\n",
    "print(f\"x={x.exp()}\")      # Can call functions in strings\n",
    "print(f\"x={float(RR.pi()):0.5f}\")       # As floating point number with 5 decimals\n"
   ]
  },
  {
   "cell_type": "markdown",
   "metadata": {},
   "source": [
    "**Exercise 1**.  Print $e^{\\pi}$ as a floating point number to 225 decimal places."
   ]
  },
  {
   "cell_type": "code",
   "execution_count": null,
   "metadata": {},
   "outputs": [],
   "source": []
  },
  {
   "cell_type": "code",
   "execution_count": null,
   "metadata": {},
   "outputs": [],
   "source": []
  },
  {
   "cell_type": "code",
   "execution_count": null,
   "metadata": {},
   "outputs": [],
   "source": []
  },
  {
   "cell_type": "markdown",
   "metadata": {},
   "source": [
    "## Functions\n",
    " - Function names should be descriptive and use \"snake_case\" (this is a Python convention)\n",
    " - Variable names in Python should also be lower, snake_case\n",
    " - In SageMath we also use mathematical conventions even if they break this, e.g. `Ei` for the exponential integral function \n",
    " - For full document about coding conventions see: http://doc.sagemath.org/html/en/developer/coding_basics.html"
   ]
  },
  {
   "cell_type": "code",
   "execution_count": null,
   "metadata": {},
   "outputs": [],
   "source": [
    "# A first function\n",
    "def is_zero_mod_3(x):\n",
    "    return x % 3 == 0  # The % is a python function for the reminder in integer division (modulo)"
   ]
  },
  {
   "cell_type": "code",
   "execution_count": null,
   "metadata": {},
   "outputs": [],
   "source": [
    "is_zero_mod_3(5)"
   ]
  },
  {
   "cell_type": "code",
   "execution_count": null,
   "metadata": {},
   "outputs": [],
   "source": [
    "# does this make sense?\n",
    "is_zero_mod_3(5.4)"
   ]
  },
  {
   "cell_type": "code",
   "execution_count": null,
   "metadata": {},
   "outputs": [],
   "source": [
    "is_zero_mod_3(1+1j) # Raises type error"
   ]
  },
  {
   "cell_type": "code",
   "execution_count": null,
   "metadata": {},
   "outputs": [],
   "source": [
    "Sage has an alternative modulo: "
   ]
  },
  {
   "cell_type": "code",
   "execution_count": null,
   "metadata": {},
   "outputs": [],
   "source": [
    "Mod(5,3)"
   ]
  },
  {
   "cell_type": "code",
   "execution_count": null,
   "metadata": {},
   "outputs": [],
   "source": [
    "type(Mod(5,3))"
   ]
  },
  {
   "cell_type": "code",
   "execution_count": null,
   "metadata": {},
   "outputs": [],
   "source": [
    "# Add handling of input\n",
    "def is_zero_mod_3(x):\n",
    "    if not isinstance(x,int):\n",
    "        raise ValueError(f\"Received input of type {type(x)}. This function needs an integer!\")\n",
    "    return x % 3 == 0"
   ]
  },
  {
   "cell_type": "code",
   "execution_count": null,
   "metadata": {},
   "outputs": [],
   "source": [
    "# Better and more informative error is raised\n",
    "is_zero_mod_3(1+1j) "
   ]
  },
  {
   "cell_type": "code",
   "execution_count": null,
   "metadata": {},
   "outputs": [],
   "source": [
    "is_zero_mod_3(int(6))"
   ]
  },
  {
   "cell_type": "code",
   "execution_count": null,
   "metadata": {},
   "outputs": [],
   "source": [
    "# However, this doesn't work as intended\n",
    "is_zero_mod_3(6)"
   ]
  },
  {
   "cell_type": "markdown",
   "metadata": {},
   "source": [
    "The issue is that we checked for type `int` but in a SageMath environment the default type for integers is `Integer`. Need to check for both types!"
   ]
  },
  {
   "cell_type": "code",
   "execution_count": null,
   "metadata": {},
   "outputs": [],
   "source": [
    "# Add handling of input\n",
    "def is_zero_mod_3(x):\n",
    "    if not isinstance(x,(int,Integer)):  # Multiple types should be given as a tuple\n",
    "        raise ValueError(f\"Received input of type {type(x)}. This function needs an integer!\")\n",
    "    return x % 3 == 0"
   ]
  },
  {
   "cell_type": "code",
   "execution_count": null,
   "metadata": {},
   "outputs": [],
   "source": [
    "is_zero_mod_3(6)"
   ]
  },
  {
   "cell_type": "markdown",
   "metadata": {},
   "source": [
    "Can we help users to know in advance what input to expect?"
   ]
  },
  {
   "cell_type": "code",
   "execution_count": null,
   "metadata": {},
   "outputs": [],
   "source": [
    "is_zero_mod_3?"
   ]
  },
  {
   "cell_type": "code",
   "execution_count": null,
   "metadata": {},
   "outputs": [],
   "source": [
    "# Let's add a docstring\n",
    "def is_zero_mod_3(x):\n",
    "    r\"\"\"\n",
    "    Return True if input is congruenct to 0 mod 3, otherwise return False\n",
    "    \n",
    "    INPUT:\n",
    "    \n",
    "    - ``x`` -- integer\n",
    "    \n",
    "    OUTPUT: A boolean describing whether the input is congruent to 0 or not.\n",
    "    \n",
    "    \"\"\"\n",
    "    if not isinstance(x,(Integer,int)):\n",
    "        raise ValueError(f\"Received input of type {type(x)}. This function needs an integer!\")\n",
    "    return x % 3 == 0"
   ]
  },
  {
   "cell_type": "code",
   "execution_count": null,
   "metadata": {},
   "outputs": [],
   "source": [
    "# Now a potential user knows what input and output to expect.\n",
    "is_zero_mod_3?"
   ]
  },
  {
   "cell_type": "code",
   "execution_count": null,
   "metadata": {
    "scrolled": true
   },
   "outputs": [],
   "source": [
    "is_zero_mod_3(\"test\")"
   ]
  },
  {
   "cell_type": "markdown",
   "metadata": {},
   "source": [
    "Variables in functions:"
   ]
  },
  {
   "cell_type": "code",
   "execution_count": null,
   "metadata": {},
   "outputs": [],
   "source": [
    "# Scalar values gets passed by value into functions, i.e. what happens in the function stays in the function:\n",
    "x=1\n",
    "def add_one(x):\n",
    "    x=x+1\n",
    "    print(f\"x={x}\")\n",
    "\n",
    "y=1\n",
    "print(y)\n",
    "add_one(y)\n",
    "print(y)\n",
    "print(x)"
   ]
  },
  {
   "cell_type": "code",
   "execution_count": null,
   "metadata": {},
   "outputs": [],
   "source": [
    "# Dicts gets passed by reference, i.e. what happens in the function also happens outside.\n",
    "d={'a':1}\n",
    "print(d['a'])     # Get d['a'] and raise an error if 'a' is not a key\n",
    "print(d.get('b','default')) # Get d['b'] if 'b' is a key, otherwise return 'default' (or None if no default value is given)\n",
    "\n",
    "def add_one(d):\n",
    "    d['a']=d.get('a')+1\n",
    "    print(f\"d={d}\")\n",
    "\n",
    "print(d)\n",
    "add_one(d)\n",
    "print(d)"
   ]
  },
  {
   "cell_type": "code",
   "execution_count": null,
   "metadata": {},
   "outputs": [],
   "source": [
    "[1]+1"
   ]
  },
  {
   "cell_type": "markdown",
   "metadata": {},
   "source": [
    " ### Type hints\n",
    " In Python3 it is also possible to add type hints.\n",
    " Note that these are mainly to guide an IDE or to be checked by a pre-parser. They are not enforced by Python. "
   ]
  },
  {
   "cell_type": "code",
   "execution_count": null,
   "metadata": {},
   "outputs": [],
   "source": [
    "# Let's add a docstring\n",
    "def is_zero_mod_3(x: int) -> bool:\n",
    "    r\"\"\"\n",
    "    Return True if input is congruenct to 0 mod 3, otherwise return False\n",
    "    \n",
    "    INPUT:\n",
    "    \n",
    "    - ``x`` -- integer\n",
    "    \n",
    "    OUTPUT: A boolean describing whether the input is congruent to 0 or not.\n",
    "    \n",
    "    \"\"\"\n",
    "    if not isinstance(x,(Integer,int)):\n",
    "        raise ValueError(f\"Received input of type {type(x)}. This function needs an integer!\")\n",
    "    return x % 3 == 0"
   ]
  },
  {
   "cell_type": "markdown",
   "metadata": {},
   "source": [
    "**Exercise 2**  Write a function with the following specifications:\n",
    "  1. Takes as input an integer $x$ and a positive integer $n$\n",
    "  2. Returns True if $x^2$ is a square modulo $n$ and otherwise False.\n",
    "  3. Handles errors in input with sensible error messages.\n",
    "  4. Includes a docstring which describes the function. "
   ]
  },
  {
   "cell_type": "markdown",
   "metadata": {},
   "source": [
    "## Functions and objects\n",
    "Functions are also objects and can be introspected via their properties.\n",
    "Class methods can be modified at runtime (monkey-patching)"
   ]
  },
  {
   "cell_type": "code",
   "execution_count": null,
   "metadata": {},
   "outputs": [],
   "source": [
    "category(is_zero_mod_3)"
   ]
  },
  {
   "cell_type": "code",
   "execution_count": null,
   "metadata": {},
   "outputs": [],
   "source": [
    "# some property...\n",
    "is_zero_mod_3.__code__.co_argcount"
   ]
  },
  {
   "cell_type": "code",
   "execution_count": null,
   "metadata": {},
   "outputs": [],
   "source": [
    "\n"
   ]
  },
  {
   "cell_type": "code",
   "execution_count": null,
   "metadata": {},
   "outputs": [],
   "source": []
  }
 ],
 "metadata": {
  "kernelspec": {
   "display_name": "SageMath 9.0",
   "language": "sage",
   "name": "sagemath"
  },
  "language_info": {
   "codemirror_mode": {
    "name": "ipython",
    "version": 3
   },
   "file_extension": ".py",
   "mimetype": "text/x-python",
   "name": "python",
   "nbconvert_exporter": "python",
   "pygments_lexer": "ipython3",
   "version": "3.7.3"
  }
 },
 "nbformat": 4,
 "nbformat_minor": 2
}
