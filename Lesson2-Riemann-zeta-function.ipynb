{
 "cells": [
  {
   "cell_type": "markdown",
   "metadata": {},
   "source": [
    "## Lesson 2 - The Riemann zeta function\n",
    "\n",
    "In this lesson we will go further into programming and learn about some control structures in Python and \n",
    "### Learning Outcomes:\n",
    "\n",
    "**Python**:\n",
    "- for loops\n",
    "- if / elif / else\n",
    "- range\n",
    "- list comprehensions\n",
    "\n",
    "**SageMath**:\n",
    "- plotting in 1-d\n",
    "\n",
    "## Mathematical problem:\n",
    "\n",
    "The Riemann zeta function $\\zeta(s)$ is defined for $s$ with real part greater than $1$ by \n",
    "$$\n",
    " \\zeta(s) = 1+2^{-s} + 3^{-s} \\cdots = \\sum_{n=1}^{\\infty} n^{-s}\n",
    "$$\n",
    "and it is known that \n",
    "1. $\\zeta(s)$ can be extended to an analytic (holomorphic) function in the entire complex plane except for a simple pole with residue 1 at $s=1$.\n",
    "2. $\\zeta(s)$ satisfies a functional equation when reflecting in the line $\\Re(s)=1/2$ of the form \n",
    "$$\n",
    "\\zeta(s) = 2^s \\pi^{s-1} \\sin(\\pi s/2) \\Gamma(1-s) \\zeta(1-s)\n",
    "$$\n",
    "3. $\\zeta(-2n)=0$ for each positive integer $n$ (these are called trivial zeros)\n",
    "\n",
    "One of the main unsolved problems in number theory today is the **Riemann Hypothesis** which states that all non-trivial zeros of $\\zeta(s)$ lie on the line $\\Re(s)=1/2$.\n",
    "\n",
    "The evidence for this conjecture is mainly experimental and has been verified up to a very large height. \n",
    "\n",
    "The main aim with the next few sessions is to study the Riemann zeta function and its zeros and (ideally) be able to verify the Riemann Hypothesis up to some height. \n",
    "\n"
   ]
  },
  {
   "cell_type": "markdown",
   "metadata": {},
   "source": [
    "## Python Control Structures\n",
    "Standard (used in most programming languages):\n",
    "- For/while loops\n",
    "- If-then-else statements\n",
    "More Python specific:\n",
    "- Generator expressions\n",
    "- List comprehensions\n"
   ]
  },
  {
   "cell_type": "code",
   "execution_count": null,
   "metadata": {},
   "outputs": [],
   "source": [
    "# For loops goes over a range of  integers.\n",
    "range(5,12)"
   ]
  },
  {
   "cell_type": "code",
   "execution_count": null,
   "metadata": {},
   "outputs": [],
   "source": [
    "list(range(5,12)) # Note it starts at the left endpoint and stops one step before the final endpoint!"
   ]
  },
  {
   "cell_type": "code",
   "execution_count": null,
   "metadata": {},
   "outputs": [],
   "source": [
    "# A range is an example of a generator expression -- it does not actually allocate all elements until needed.\n",
    "# list(range(10^(10^10))) would run out of memory but iterating over it is fine (although probably won't finish)\n",
    "# If evaluating this cell: please call keyboard interrupt.\n",
    "for i in range(10^(10^10)):\n",
    "    pass"
   ]
  },
  {
   "cell_type": "code",
   "execution_count": null,
   "metadata": {},
   "outputs": [],
   "source": [
    "# We can evaluate the zeta function at s=2 using a loop:\n",
    "result = 0\n",
    "for n in range(1,100):\n",
    "    result += n**(-2)\n",
    "print(result)"
   ]
  },
  {
   "cell_type": "code",
   "execution_count": null,
   "metadata": {},
   "outputs": [],
   "source": [
    "RR.pi()**2/6."
   ]
  },
  {
   "cell_type": "code",
   "execution_count": null,
   "metadata": {
    "scrolled": false
   },
   "outputs": [],
   "source": [
    "# Or a list comprehension\n",
    "sum([n**-2 for n in range(1,100)])"
   ]
  },
  {
   "cell_type": "code",
   "execution_count": null,
   "metadata": {},
   "outputs": [],
   "source": [
    "sum(n**-2 for n in range(1,100))"
   ]
  },
  {
   "cell_type": "markdown",
   "metadata": {},
   "source": [
    "If we want to compute partial zeta functions:\n",
    "$$\n",
    "\\zeta_{odd} = \\sum_{n=0,\\, n\\equiv 1\\pmod{2}}^{\\infty} n^{-s}\\quad \\zeta_{even} = \\sum_{n=0,\\, n\\equiv 0\\pmod{2}}^{\\infty} n^{-s}\n",
    "$$"
   ]
  },
  {
   "cell_type": "code",
   "execution_count": null,
   "metadata": {
    "scrolled": true
   },
   "outputs": [],
   "source": [
    "# With a list comprehension\n",
    "sum([n**-2 for n in range(1,100) if n % 2 == 1])"
   ]
  },
  {
   "cell_type": "code",
   "execution_count": null,
   "metadata": {},
   "outputs": [],
   "source": [
    "# Using a range with step size 2\n",
    "result = 0\n",
    "for n in range(1,100,2):\n",
    "    result += n**(-2)\n",
    "print(result)"
   ]
  },
  {
   "cell_type": "code",
   "execution_count": null,
   "metadata": {},
   "outputs": [],
   "source": [
    "# If we want to compute both even and odd parts we can use an if-elif-else:\n",
    "result_even = 0\n",
    "result_odd = 0\n",
    "for n in range(1,100):\n",
    "    if n % 2 == 1:\n",
    "        result_odd += n**(-2)\n",
    "    elif n % 2 == 0:\n",
    "        result_even+= n**-2\n",
    "    else:\n",
    "        pass   # \n",
    "print(f\"zeta_odd={result_odd}\")\n",
    "print(f\"zeta_even={result_even}\")"
   ]
  },
  {
   "cell_type": "markdown",
   "metadata": {},
   "source": [
    "**Exercise 3**\n",
    "Write a function with the following specifications:\n",
    "1. Takes an input a complex number $s$\n",
    "2. Outputs an approximation of $\\zeta(s)$ (of the **same type** as the input) if $\\Re(s)>1$.\n",
    "3. Raises an appropriate error message if $s$ is of the wrong type or not in the correct domain.\n",
    "4. Has a docstring that explains it\n",
    "\n",
    "5. (extra): add a parameter to to adjust a desired error estimate. "
   ]
  },
  {
   "cell_type": "markdown",
   "metadata": {},
   "source": [
    "We can import the solution from another notebook"
   ]
  },
  {
   "cell_type": "code",
   "execution_count": null,
   "metadata": {},
   "outputs": [],
   "source": [
    "%run ExampleSolutions.ipynb"
   ]
  },
  {
   "cell_type": "code",
   "execution_count": null,
   "metadata": {},
   "outputs": [],
   "source": [
    "zeta_v1(CC(10,1),eps=10**-10)"
   ]
  },
  {
   "cell_type": "code",
   "execution_count": null,
   "metadata": {},
   "outputs": [],
   "source": [
    "_ - zeta(CC(10,1))"
   ]
  },
  {
   "cell_type": "code",
   "execution_count": null,
   "metadata": {},
   "outputs": [],
   "source": [
    "# A first plot of zeta along the horisontal line y=1\n",
    "p=plot(lambda x: zeta_v1(CC(x,1)).real(),2,10)"
   ]
  },
  {
   "cell_type": "code",
   "execution_count": null,
   "metadata": {},
   "outputs": [],
   "source": [
    "latex(p)"
   ]
  },
  {
   "cell_type": "markdown",
   "metadata": {},
   "source": [
    "**Exercise** \n",
    "Plot the zeta function along the vertical line $\\Re(s)=2$ and the horisontal line $\\Im(s)=2$ in the same plot and add a legend describing which curve is $\\zeta(x+i)$ and which one is $\\zeta(2+iy)$."
   ]
  }
 ],
 "metadata": {
  "celltoolbar": "Raw Cell Format",
  "kernelspec": {
   "display_name": "SageMath 9.0",
   "language": "sage",
   "name": "sagemath"
  },
  "language_info": {
   "codemirror_mode": {
    "name": "ipython",
    "version": 3
   },
   "file_extension": ".py",
   "mimetype": "text/x-python",
   "name": "python",
   "nbconvert_exporter": "python",
   "pygments_lexer": "ipython3",
   "version": "3.7.3"
  }
 },
 "nbformat": 4,
 "nbformat_minor": 2
}
