{
 "cells": [
  {
   "cell_type": "markdown",
   "metadata": {},
   "source": [
    "# Lesson 4\n",
    "\n",
    "## Learning outcomes\n",
    "\n",
    "Python:\n",
    " - recursive functions\n",
    " \n",
    "SageMath:\n",
    "\n",
    "- numerical integrals\n",
    "\n",
    "\n",
    "To check on the Riemann Hypothesis we need to be able to evaluate $\\zeta$ to the left of the real part = 1.\n",
    "We can not rely on the definition as a sum here but need to use a method of analytic continuation. For instance using the Euler Mc Laurin Formula for $\\zeta$.\n",
    "Letting $f(n)=n^{-s}$, $a=1$ and $b=\\infty$. If $\\Re(s)>1$:\n",
    "\n",
    "$$\n",
    "\\zeta(s) = \\sum_{n=1}^{\\infty} n^{-s} = -\\frac{1}{1-s}  \n",
    "- \\Sigma_{j=1}^{k}\\frac{(-1)^{j-1}(s)_{j-1} B_{j} }{(j)!}\n",
    "+ \\frac{(-1)^{k-1}(-1)^{k}(s)_k}{(k)!} \\int_{1}^{\\infty} B_{k}(x-[x])x^{-s-k}(x) dx.\n",
    "$$\n",
    "\n",
    "where $(s)_k = s(s+1)\\cdots (s+k-1)$ is the **Pochhammer** symbol:\n",
    "$$\n",
    " (s)_{k} = \\frac{\\Gamma(s+k)}{\\Gamma(s)}\n",
    "$$\n",
    "Observe that the Right-hand side is convergent for $\\Re(s)>1-k$.\n",
    "We are now ready to try out the Euler McLaurin"
   ]
  },
  {
   "cell_type": "markdown",
   "metadata": {},
   "source": [
    "To evaluate zeta at the half-line we thus need to have k at least 1.\n",
    "Let's experiment with k=1."
   ]
  },
  {
   "cell_type": "code",
   "execution_count": 59,
   "metadata": {},
   "outputs": [],
   "source": [
    "def EM_main_terms1(s):\n",
    "    \"\"\"\n",
    "    Euler Mc-Laurin with k=1 terms\n",
    "    \"\"\"\n",
    "    term1 = -1/(1-s)\n",
    "    term2 = -bernoulli(1)\n",
    "    return term1+term2"
   ]
  },
  {
   "cell_type": "code",
   "execution_count": 60,
   "metadata": {},
   "outputs": [
    {
     "data": {
      "text/plain": [
       "1.50000000000000"
      ]
     },
     "execution_count": 60,
     "metadata": {},
     "output_type": "execute_result"
    }
   ],
   "source": [
    "EM_main_terms1(2.0)"
   ]
  },
  {
   "cell_type": "markdown",
   "metadata": {},
   "source": [
    "To see that we get all terms correct we can evaluate the integral numerically.\n",
    "The `numerical_integral` in Sage returns the value and an error estimate."
   ]
  },
  {
   "cell_type": "code",
   "execution_count": null,
   "metadata": {},
   "outputs": [],
   "source": [
    "TODO: Example"
   ]
  },
  {
   "cell_type": "code",
   "execution_count": 69,
   "metadata": {},
   "outputs": [],
   "source": [
    "def ERR1(s):\n",
    "    value,error_estimate = numerical_integral(lambda t: (t-floor(t)-1/2)*t**(-s-1),1,infinity)\n",
    "    return -s*value,-s*error_estimate"
   ]
  },
  {
   "cell_type": "code",
   "execution_count": 70,
   "metadata": {},
   "outputs": [
    {
     "data": {
      "text/plain": [
       "(0.144899261890164, -0.000302194062135913)"
      ]
     },
     "execution_count": 70,
     "metadata": {},
     "output_type": "execute_result"
    }
   ],
   "source": [
    "ERR1(2.)"
   ]
  },
  {
   "cell_type": "code",
   "execution_count": 66,
   "metadata": {},
   "outputs": [
    {
     "data": {
      "text/plain": [
       "0.0000348049580618515"
      ]
     },
     "execution_count": 66,
     "metadata": {},
     "output_type": "execute_result"
    }
   ],
   "source": [
    "RR(zeta(2)) - (EM_main_terms1(2.0) + ERR1(2.0))"
   ]
  },
  {
   "cell_type": "markdown",
   "metadata": {},
   "source": [
    "# Recursive functions\n",
    "\n",
    "A recursive function is a function that \"calls itself\". \n",
    "Some (mathematical) functions are natural candidates for writing as recursive functions. For instance the factorial function:"
   ]
  },
  {
   "cell_type": "code",
   "execution_count": 72,
   "metadata": {},
   "outputs": [],
   "source": [
    "def factorial_recursive(n):\n",
    "    if n == 1:\n",
    "        return 1\n",
    "    return n*factorial_recursive(n-1)"
   ]
  },
  {
   "cell_type": "code",
   "execution_count": 74,
   "metadata": {},
   "outputs": [
    {
     "data": {
      "text/plain": [
       "6"
      ]
     },
     "execution_count": 74,
     "metadata": {},
     "output_type": "execute_result"
    }
   ],
   "source": []
  },
  {
   "cell_type": "markdown",
   "metadata": {},
   "source": [
    "**Exercise**\n",
    "Write a recursive function that computes the Pochammer symbol\n",
    "$$\n",
    "(s)_k = s(s+1)(s+2)\\cdots (s+k-1)\n",
    "$$"
   ]
  },
  {
   "cell_type": "markdown",
   "metadata": {},
   "source": [
    "**Exercise** \n",
    "- Write a function that evaluates $\\zeta(s)$ using the main terms for arbitrary k.\n",
    "- by comparing with the Builtin `zeta` determine the errors for various values of k and plot the errors in a combined plot.\n"
   ]
  },
  {
   "cell_type": "code",
   "execution_count": null,
   "metadata": {},
   "outputs": [],
   "source": []
  }
 ],
 "metadata": {
  "kernelspec": {
   "display_name": "SageMath 9.0",
   "language": "sage",
   "name": "sagemath"
  },
  "language_info": {
   "codemirror_mode": {
    "name": "ipython",
    "version": 3
   },
   "file_extension": ".py",
   "mimetype": "text/x-python",
   "name": "python",
   "nbconvert_exporter": "python",
   "pygments_lexer": "ipython3",
   "version": "3.7.3"
  }
 },
 "nbformat": 4,
 "nbformat_minor": 2
}
